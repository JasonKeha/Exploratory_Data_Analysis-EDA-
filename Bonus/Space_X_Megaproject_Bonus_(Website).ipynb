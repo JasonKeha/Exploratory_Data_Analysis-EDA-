{
  "nbformat": 4,
  "nbformat_minor": 0,
  "metadata": {
    "colab": {
      "provenance": [],
      "authorship_tag": "ABX9TyP5AckXsEyc64cCR+i7IhR+",
      "include_colab_link": true
    },
    "kernelspec": {
      "name": "python3",
      "display_name": "Python 3"
    },
    "language_info": {
      "name": "python"
    }
  },
  "cells": [
    {
      "cell_type": "markdown",
      "metadata": {
        "id": "view-in-github",
        "colab_type": "text"
      },
      "source": [
        "<a href=\"https://colab.research.google.com/github/JasonKeha/Exploratory_Data_Analysis-EDA-/blob/main/Bonus/Space_X_Megaproject_Bonus_(Website).ipynb\" target=\"_parent\"><img src=\"https://colab.research.google.com/assets/colab-badge.svg\" alt=\"Open In Colab\"/></a>"
      ]
    },
    {
      "cell_type": "markdown",
      "source": [
        "# **DISCLAIMER**\n",
        "\n",
        "For this to work you need to enable/disable some security settings when it comes to opening websites"
      ],
      "metadata": {
        "id": "j25VuqA34hTg"
      }
    },
    {
      "cell_type": "markdown",
      "source": [
        "### Importing the required libraries"
      ],
      "metadata": {
        "id": "2wA4M3sWoK9w"
      }
    },
    {
      "cell_type": "code",
      "source": [
        "!pip install dash"
      ],
      "metadata": {
        "id": "e8BHWEOrobfq"
      },
      "execution_count": null,
      "outputs": []
    },
    {
      "cell_type": "code",
      "source": [
        "import pandas as pd\n",
        "import dash\n",
        "import dash_html_components as html\n",
        "from dash import dcc\n",
        "from dash.dependencies import Input, Output\n",
        "import plotly.express as px"
      ],
      "metadata": {
        "id": "SkKPT3ZxoGv0"
      },
      "execution_count": null,
      "outputs": []
    },
    {
      "cell_type": "markdown",
      "source": [
        "### Reading the airline data into pandas dataframe"
      ],
      "metadata": {
        "id": "ZaZKDYpfoU6T"
      }
    },
    {
      "cell_type": "code",
      "source": [
        "spacex_df = pd.read_csv(\"https://raw.githubusercontent.com/JasonKeha/Space_X_Megaproject/main/Data%20Wrangling%20(part%202%20of%20project)/Space_X_Megaproject_part_2.csv\")\n",
        "max_payload = spacex_df['PayloadMass'].max()\n",
        "min_payload = spacex_df['PayloadMass'].min()"
      ],
      "metadata": {
        "id": "AKhcNkb3oRS-"
      },
      "execution_count": null,
      "outputs": []
    },
    {
      "cell_type": "markdown",
      "source": [
        "### Creating a dash application"
      ],
      "metadata": {
        "id": "-IhCXgVW14ll"
      }
    },
    {
      "cell_type": "code",
      "source": [
        "app = dash.Dash(__name__)"
      ],
      "metadata": {
        "id": "eWOpNjlMoumV"
      },
      "execution_count": null,
      "outputs": []
    },
    {
      "cell_type": "markdown",
      "source": [
        "### Creating an app layout"
      ],
      "metadata": {
        "id": "DfB85a7U2CHI"
      }
    },
    {
      "cell_type": "code",
      "source": [
        "app.layout = html.Div(children=[html.H1('SpaceX Launch Records Dashboard',\n",
        "                                        style={'textAlign': 'center', 'color': '#503D36',\n",
        "                                               'font-size': 40}),                              \n",
        "                                dcc.Dropdown(id='site-dropdown',\n",
        "                                options=[\n",
        "                                    {'label': 'All Sites', 'value': 'All Sites'},\n",
        "                                    {'label': 'CCAFS LC-40', 'value': 'CCAFS LC-40'},\n",
        "                                    {'label': 'VAFB SLC-4E', 'value': 'VAFB SLC-4E'},\n",
        "                                    {'label': 'KSC LC-39A', 'value': 'KSC LC-39A'},\n",
        "                                    {'label': 'CCAFS SLC-40', 'value': 'CCAFS SLC-40'}\n",
        "                                ],\n",
        "                                placeholder='Select a Launch Site Here',\n",
        "                                value='All Sites',\n",
        "                                searchable=True\n",
        "                                ),\n",
        "                                html.Br(),\n",
        "\n",
        "                            \n",
        "\n",
        "                                \n",
        "                                html.Div(dcc.Graph(id='success-pie-chart')),\n",
        "                                html.Br(),\n",
        "\n",
        "                                html.P(\"Payload range (Kg):\"),\n",
        "\n",
        "\n",
        "                                \n",
        "                                dcc.RangeSlider(id='payload-slider',\n",
        "                                min=0,\n",
        "                                max=10000,\n",
        "                                step=1000,\n",
        "                                marks={i: '{}'.format(i) for i in range(0, 10001, 1000)},\n",
        "                                value=[min_payload, max_payload]),\n",
        "\n",
        "\n",
        "                                html.Div(dcc.Graph(id='success-payload-scatter-chart')),\n",
        "                                ])\n",
        "                                \n",
        "\n",
        "\n",
        "@app.callback( Output(component_id='success-pie-chart', component_property='figure'),\n",
        "               Input(component_id='site-dropdown', component_property='value'))\n",
        "def get_pie_chart(launch_site):\n",
        "    if launch_site == 'All Sites':\n",
        "        fig = px.pie(values=spacex_df.groupby('Launch Site')['class'].mean(), \n",
        "                     names=spacex_df.groupby('Launch Site')['Launch Site'].first(),\n",
        "                     title='Total Success Launches by Site')\n",
        "    else:\n",
        "        fig = px.pie(values=spacex_df[spacex_df['Launch Site']==str(launch_site)]['class'].value_counts(normalize=True), \n",
        "                     names=spacex_df['class'].unique(), \n",
        "                     title='Total Success Launches for Site {}'.format(launch_site))\n",
        "    return(fig)\n",
        "\n",
        "\n",
        "@app.callback( Output(component_id='success-payload-scatter-chart', component_property='figure'),\n",
        "              [Input(component_id='site-dropdown', component_property='value'),\n",
        "               Input(component_id='payload-slider',component_property='value')])\n",
        "def get_payload_chart(launch_site, payload_mass):\n",
        "    if launch_site == 'All Sites':\n",
        "        fig = px.scatter(spacex_df[spacex_df['Payload Mass (kg)'].between(payload_mass[0], payload_mass[1])], \n",
        "                x=\"Payload Mass (kg)\",\n",
        "                y=\"class\",\n",
        "                color=\"Booster Version Category\",\n",
        "                hover_data=['Launch Site'],\n",
        "                title='Correlation Between Payload and Success for All Sites')\n",
        "    else:\n",
        "        df = spacex_df[spacex_df['Launch Site']==str(launch_site)]\n",
        "        fig = px.scatter(df[df['Payload Mass (kg)'].between(payload_mass[0], payload_mass[1])], \n",
        "                x=\"Payload Mass (kg)\",\n",
        "                y=\"class\",\n",
        "                color=\"Booster Version Category\",\n",
        "                hover_data=['Launch Site'],\n",
        "                title='Correlation Between Payload and Success for Site {}'.format(launch_site))\n",
        "    return(fig)"
      ],
      "metadata": {
        "id": "wGJlEOS32DOM"
      },
      "execution_count": null,
      "outputs": []
    },
    {
      "cell_type": "markdown",
      "source": [
        "### Running the app"
      ],
      "metadata": {
        "id": "SdPPlyKA2fy7"
      }
    },
    {
      "cell_type": "code",
      "source": [
        "if __name__ == '__main__':\n",
        "    app.run_server()"
      ],
      "metadata": {
        "id": "GoQeLqNx2bau"
      },
      "execution_count": null,
      "outputs": []
    }
  ]
}